{
  "cells": [
    {
      "cell_type": "markdown",
      "metadata": {
        "id": "view-in-github",
        "colab_type": "text"
      },
      "source": [
        "<a href=\"https://colab.research.google.com/github/Abitharani-Jeyachandran/Abitharani-Jeyachandran/blob/main/garbage_keras.ipynb\" target=\"_parent\"><img src=\"https://colab.research.google.com/assets/colab-badge.svg\" alt=\"Open In Colab\"/></a>"
      ]
    },
    {
      "cell_type": "code",
      "execution_count": 2,
      "id": "923dbcb1",
      "metadata": {
        "id": "923dbcb1"
      },
      "outputs": [],
      "source": [
        "import numpy as np # linear algebra\n",
        "import matplotlib.pyplot as plt\n",
        "from sklearn.model_selection import train_test_split\n",
        "import tensorflow as tf\n",
        "from keras.preprocessing.image import ImageDataGenerator\n",
        "from keras.utils import to_categorical\n",
        "from keras.models import Sequential\n",
        "from keras.layers import Conv2D, MaxPooling2D, BatchNormalization, Dropout\n",
        "from keras.layers import Dense, Flatten\n",
        "import cv2\n",
        "import os"
      ]
    },
    {
      "cell_type": "code",
      "execution_count": 61,
      "id": "56a1d01e",
      "metadata": {
        "id": "56a1d01e"
      },
      "outputs": [],
      "source": [
        "category = [\"metal\", \"glass\"]\n",
        "EPOCHS = 50\n",
        "IMGSIZE = 100 # 24, 48, 75, 50\n",
        "BATCH_SIZE = 32\n",
        "STOPPING_PATIENCE = 15\n",
        "VERBOSE = 1\n",
        "#MODEL_NAME = 'cnn_50epochs_imgsize128'\n",
        "OPTIMIZER = 'adam'\n",
        "DATASET_DIR = '/content/drive/MyDrive/Colab Notebooks/garbage' #folder path where training datasets are stored\n",
        "TEST_DIR = '/content/drive/MyDrive/Colab Notebooks/garbage/test'"
      ]
    },
    {
      "cell_type": "code",
      "execution_count": 69,
      "id": "811862bc",
      "metadata": {
        "id": "811862bc"
      },
      "outputs": [],
      "source": [
        "# img_data_list = []\n",
        "# for dataset in os.listdir(TRAINING_DIR):\n",
        "#     img_list=os.listdir(TRAINING_DIR +'/'+ dataset)\n",
        "#     print('Loaded the images of dataset-'+'{}\\n'.format(dataset))\n",
        "#     for img in img_list:\n",
        "#         img_arr = cv2.imread(TRAINING_DIR +'/'+ dataset + '/' + img) \n",
        "#         img_arr = cv2.cvtColor(img_arr, cv2.COLOR_BGR2GRAY) #change the image in gray-scale \n",
        "#         img_arr_resize = cv2.resize(img_arr, (IMGSIZE, IMGSIZE)) #resize the image in 100 x 100 \n",
        "#         img_data_list.append(img_arr_resize)\n",
        "\n",
        "label_dict = {'metal': 0, 'glass': 1}\n",
        "corrupted_imgs = 0\n",
        "\n",
        "def create_train_data(data_path):\n",
        "  global corrupted_imgs\n",
        "  X = []\n",
        "  y = []\n",
        "  \n",
        "  for cat in os.listdir(data_path):\n",
        "    cat_path = os.path.join(data_path, cat)\n",
        "    img_files = os.listdir(cat_path)\n",
        "    for img in img_files:\n",
        "        img_path = os.path.join(cat_path, img)\n",
        "        try:\n",
        "          img_arr = cv2.imread(img_path, cv2.IMREAD_GRAYSCALE)\n",
        "          img_arr = cv2.resize(img_arr, (IMGSIZE, IMGSIZE))\n",
        "          img_arr = img_arr / 255.0\n",
        "          label = label_dict[cat]\n",
        "          X.append(img_arr)\n",
        "          y.append(label)\n",
        "        except:\n",
        "          corrupted_imgs += 1\n",
        "  X = np.array(X).reshape(-1, IMGSIZE, IMGSIZE, 1)\n",
        "  y = np.array(y)\n",
        "  return X, y"
      ]
    },
    {
      "cell_type": "code",
      "execution_count": 36,
      "id": "1007d1cb",
      "metadata": {
        "colab": {
          "base_uri": "https://localhost:8080/"
        },
        "id": "1007d1cb",
        "outputId": "77f25628-06c7-41cc-8009-d538c8a0b728"
      },
      "outputs": [
        {
          "output_type": "stream",
          "name": "stdout",
          "text": [
            "features shape (3332, 100, 100, 1).\n",
            "label shape (3332,).\n",
            "features shape (3332, 100, 100, 1).\n",
            "label shape (3332, 2).\n"
          ]
        }
      ],
      "source": [
        "X, y = create_train_data('/content/drive/MyDrive/Colab Notebooks/garbage/train')\n",
        "y = to_categorical(y, 2)\n",
        "print(f\"features shape {X.shape}.\\nlabel shape {y.shape}.\")\n",
        "X_train , X_test, y_train, y_test = train_test_split(X, y, test_size=0.2)\n",
        "train_datagen = ImageDataGenerator(rescale=1./255, shear_range=0.2, zoom_range=0.2,horizontal_flip=True)\n",
        "train_gen = train_datagen.flow(X_train, y_train, batch_size=BATCH_SIZE)\n",
        "test_datagen = ImageDataGenerator(rescale=1./255)\n",
        "test_gen = train_datagen.flow(X_test, y_test, batch_size=BATCH_SIZE)"
      ]
    },
    {
      "cell_type": "code",
      "execution_count": 42,
      "id": "11216623",
      "metadata": {
        "id": "11216623"
      },
      "outputs": [],
      "source": [
        "model = Sequential()\n",
        " \n",
        "model.add(Conv2D(32, (3, 3), activation='relu', input_shape=X.shape[1:]))\n",
        "model.add(MaxPooling2D(pool_size=(2, 2)))\n",
        "model.add(Dropout(0.5))\n",
        " \n",
        "model.add(Conv2D(64, (3, 3), activation='relu'))\n",
        "model.add(MaxPooling2D(pool_size=(2, 2)))\n",
        "model.add(Dropout(0.5))\n",
        " \n",
        "model.add(Conv2D(128, (3, 3), activation='relu'))\n",
        "model.add(MaxPooling2D(pool_size=(2, 2)))\n",
        "model.add(Dropout(0.5))\n",
        " \n",
        "model.add(Conv2D(256, (3, 3), activation='relu'))\n",
        "model.add(MaxPooling2D(pool_size=(2, 2)))\n",
        "model.add(Dropout(0.5))\n",
        " \n",
        "model.add(Flatten())\n",
        "model.add(Dense(256, activation='relu'))\n",
        "model.add(Dropout(0.5))\n",
        " \n",
        "model.add(Dense(2, activation='sigmoid'))"
      ]
    },
    {
      "cell_type": "code",
      "execution_count": 44,
      "id": "11a57990",
      "metadata": {
        "id": "11a57990"
      },
      "outputs": [],
      "source": [
        "model.compile(optimizer='adam', loss='binary_crossentropy', metrics=['accuracy'])"
      ]
    },
    {
      "cell_type": "code",
      "execution_count": 48,
      "id": "406dee0a",
      "metadata": {
        "colab": {
          "base_uri": "https://localhost:8080/"
        },
        "id": "406dee0a",
        "outputId": "66451d93-cc2c-4ba8-e614-b71e3fe26199"
      },
      "outputs": [
        {
          "output_type": "stream",
          "name": "stdout",
          "text": [
            "Epoch 1/5\n",
            "70/70 [==============================] - 37s 528ms/step - loss: 0.6907 - accuracy: 0.5511 - val_loss: 0.6876 - val_accuracy: 0.5590\n",
            "Epoch 2/5\n",
            "70/70 [==============================] - 34s 491ms/step - loss: 0.6861 - accuracy: 0.5516 - val_loss: 0.6748 - val_accuracy: 0.5608\n",
            "Epoch 3/5\n",
            "70/70 [==============================] - 34s 487ms/step - loss: 0.6647 - accuracy: 0.5867 - val_loss: 0.6532 - val_accuracy: 0.5842\n",
            "Epoch 4/5\n",
            "70/70 [==============================] - 36s 517ms/step - loss: 0.6487 - accuracy: 0.5948 - val_loss: 0.7648 - val_accuracy: 0.5878\n",
            "Epoch 5/5\n",
            "70/70 [==============================] - 35s 494ms/step - loss: 0.6544 - accuracy: 0.6074 - val_loss: 0.8098 - val_accuracy: 0.5653\n"
          ]
        }
      ],
      "source": [
        "history = model.fit(X_train, y_train, validation_data=(X_test, y_test), epochs=EPOCHS, batch_size=BATCH_SIZE) #checkpoints"
      ]
    },
    {
      "cell_type": "code",
      "source": [
        "history.history"
      ],
      "metadata": {
        "colab": {
          "base_uri": "https://localhost:8080/"
        },
        "id": "qG7jyC32MOUh",
        "outputId": "08854299-ccb2-4990-d3d0-513ff30ab06a"
      },
      "id": "qG7jyC32MOUh",
      "execution_count": 54,
      "outputs": [
        {
          "output_type": "execute_result",
          "data": {
            "text/plain": [
              "{'loss': [0.6907228827476501,\n",
              "  0.6860571503639221,\n",
              "  0.664737343788147,\n",
              "  0.6487086415290833,\n",
              "  0.6543874144554138],\n",
              " 'accuracy': [0.5511031150817871,\n",
              "  0.5515533685684204,\n",
              "  0.5866726636886597,\n",
              "  0.5947771072387695,\n",
              "  0.6073840856552124],\n",
              " 'val_loss': [0.6875710487365723,\n",
              "  0.674768328666687,\n",
              "  0.6531795263290405,\n",
              "  0.7647778987884521,\n",
              "  0.8097741007804871],\n",
              " 'val_accuracy': [0.5589559078216553,\n",
              "  0.5607560873031616,\n",
              "  0.5841584205627441,\n",
              "  0.5877587795257568,\n",
              "  0.5652565360069275]}"
            ]
          },
          "metadata": {},
          "execution_count": 54
        }
      ]
    },
    {
      "cell_type": "code",
      "source": [
        "fig = plt.figure()\n",
        "plt.plot(history.history['loss'], color='teal', label='loss')\n",
        "plt.plot(history.history['val_loss'], color='orange', label='val_loss')\n",
        "fig.suptitle('Loss', fontsize=20)\n",
        "plt.legend(loc=\"upper left\")\n",
        "plt.show()"
      ],
      "metadata": {
        "colab": {
          "base_uri": "https://localhost:8080/",
          "height": 294
        },
        "id": "apjg8af_MURW",
        "outputId": "212aa962-97f9-4f21-e20c-1c683dfff6a6"
      },
      "id": "apjg8af_MURW",
      "execution_count": 55,
      "outputs": [
        {
          "output_type": "display_data",
          "data": {
            "text/plain": [
              "<Figure size 432x288 with 1 Axes>"
            ],
            "image/png": "[encoded data removed]"
          },
          "metadata": {
            "needs_background": "light"
          }
        }
      ]
    },
    {
      "cell_type": "code",
      "source": [
        "fig = plt.figure()\n",
        "plt.plot(history.history['accuracy'], color='teal', label='accuracy')\n",
        "plt.plot(history.history['val_accuracy'], color='orange', label='val_accuracy')\n",
        "fig.suptitle('Accuracy', fontsize=20)\n",
        "plt.legend(loc=\"upper left\")\n",
        "plt.show()"
      ],
      "metadata": {
        "colab": {
          "base_uri": "https://localhost:8080/",
          "height": 294
        },
        "id": "0lwic6OkMdi_",
        "outputId": "199b2fab-5fb7-4b24-ce70-915a3105869f"
      },
      "id": "0lwic6OkMdi_",
      "execution_count": 56,
      "outputs": [
        {
          "output_type": "display_data",
          "data": {
            "text/plain": [
              "<Figure size 432x288 with 1 Axes>"
            ],
            "image/png": "[encoded data removed]"
          },
          "metadata": {
            "needs_background": "light"
          }
        }
      ]
    },
    {
      "cell_type": "code",
      "execution_count": 82,
      "id": "0af75d30",
      "metadata": {
        "id": "0af75d30"
      },
      "outputs": [],
      "source": [
        "model.save_weights(\"model_weights.h5\")\n",
        "model.save('garbage-keras-model.h5')"
      ]
    },
    {
      "cell_type": "code",
      "execution_count": 58,
      "id": "74d36957",
      "metadata": {
        "colab": {
          "base_uri": "https://localhost:8080/"
        },
        "id": "74d36957",
        "outputId": "ea4b10dd-df6f-4de5-cec2-52fdf47dbc9b"
      },
      "outputs": [
        {
          "output_type": "stream",
          "name": "stdout",
          "text": [
            "Model: \"sequential_1\"\n",
            "_________________________________________________________________\n",
            " Layer (type)                Output Shape              Param #   \n",
            "=================================================================\n",
            " conv2d_4 (Conv2D)           (None, 98, 98, 32)        320       \n",
            "                                                                 \n",
            " max_pooling2d_4 (MaxPooling  (None, 49, 49, 32)       0         \n",
            " 2D)                                                             \n",
            "                                                                 \n",
            " dropout_5 (Dropout)         (None, 49, 49, 32)        0         \n",
            "                                                                 \n",
            " conv2d_5 (Conv2D)           (None, 47, 47, 64)        18496     \n",
            "                                                                 \n",
            " max_pooling2d_5 (MaxPooling  (None, 23, 23, 64)       0         \n",
            " 2D)                                                             \n",
            "                                                                 \n",
            " dropout_6 (Dropout)         (None, 23, 23, 64)        0         \n",
            "                                                                 \n",
            " conv2d_6 (Conv2D)           (None, 21, 21, 128)       73856     \n",
            "                                                                 \n",
            " max_pooling2d_6 (MaxPooling  (None, 10, 10, 128)      0         \n",
            " 2D)                                                             \n",
            "                                                                 \n",
            " dropout_7 (Dropout)         (None, 10, 10, 128)       0         \n",
            "                                                                 \n",
            " conv2d_7 (Conv2D)           (None, 8, 8, 256)         295168    \n",
            "                                                                 \n",
            " max_pooling2d_7 (MaxPooling  (None, 4, 4, 256)        0         \n",
            " 2D)                                                             \n",
            "                                                                 \n",
            " dropout_8 (Dropout)         (None, 4, 4, 256)         0         \n",
            "                                                                 \n",
            " flatten_1 (Flatten)         (None, 4096)              0         \n",
            "                                                                 \n",
            " dense_2 (Dense)             (None, 256)               1048832   \n",
            "                                                                 \n",
            " dropout_9 (Dropout)         (None, 256)               0         \n",
            "                                                                 \n",
            " dense_3 (Dense)             (None, 2)                 514       \n",
            "                                                                 \n",
            "=================================================================\n",
            "Total params: 1,437,186\n",
            "Trainable params: 1,437,186\n",
            "Non-trainable params: 0\n",
            "_________________________________________________________________\n",
            "None\n"
          ]
        }
      ],
      "source": [
        "print(model.summary())"
      ]
    },
    {
      "cell_type": "code",
      "execution_count": 59,
      "id": "49b11461",
      "metadata": {
        "colab": {
          "base_uri": "https://localhost:8080/"
        },
        "id": "49b11461",
        "outputId": "d1b57ae8-c44d-4302-f275-74390801a985"
      },
      "outputs": [
        {
          "output_type": "stream",
          "name": "stdout",
          "text": [
            "70/70 [==============================] - 8s 110ms/step - loss: 0.8230 - accuracy: 0.5534\n",
            "35/35 [==============================] - 4s 109ms/step - loss: 0.8098 - accuracy: 0.5653\n"
          ]
        }
      ],
      "source": [
        "train_acc = model.evaluate(X_train, y_train, batch_size=BATCH_SIZE)\n",
        "test_acc = model.evaluate(X_test, y_test, batch_size=BATCH_SIZE)"
      ]
    },
    {
      "cell_type": "code",
      "execution_count": 81,
      "id": "bd9e0518",
      "metadata": {
        "colab": {
          "base_uri": "https://localhost:8080/",
          "height": 820
        },
        "id": "bd9e0518",
        "outputId": "d3ce20aa-7e2b-4b58-8151-6c0c2a85b0f8"
      },
      "outputs": [
        {
          "output_type": "stream",
          "name": "stderr",
          "text": [
            "WARNING:tensorflow:Model was constructed with shape (None, 100, 100, 1) for input KerasTensor(type_spec=TensorSpec(shape=(None, 100, 100, 1), dtype=tf.float32, name='conv2d_4_input'), name='conv2d_4_input', description=\"created by layer 'conv2d_4_input'\"), but it was called on an input with incompatible shape (None, 100).\n"
          ]
        },
        {
          "output_type": "error",
          "ename": "ValueError",
          "evalue": "ignored",
          "traceback": [
            "\u001b[0;31m---------------------------------------------------------------------------\u001b[0m",
            "\u001b[0;31mValueError\u001b[0m                                Traceback (most recent call last)",
            "\u001b[0;32m<ipython-input-81-6b6d99b28dbb>\u001b[0m in \u001b[0;36m<module>\u001b[0;34m\u001b[0m\n\u001b[1;32m     12\u001b[0m \u001b[0mim_test\u001b[0m\u001b[0;34m.\u001b[0m\u001b[0mappend\u001b[0m\u001b[0;34m(\u001b[0m\u001b[0mimg_arr\u001b[0m\u001b[0;34m)\u001b[0m\u001b[0;34m\u001b[0m\u001b[0;34m\u001b[0m\u001b[0m\n\u001b[1;32m     13\u001b[0m \u001b[0mx\u001b[0m \u001b[0;34m=\u001b[0m \u001b[0mnp\u001b[0m\u001b[0;34m.\u001b[0m\u001b[0marray\u001b[0m\u001b[0;34m(\u001b[0m\u001b[0mim_test\u001b[0m\u001b[0;34m)\u001b[0m\u001b[0;34m.\u001b[0m\u001b[0mreshape\u001b[0m\u001b[0;34m(\u001b[0m\u001b[0;34m-\u001b[0m\u001b[0;36m1\u001b[0m\u001b[0;34m,\u001b[0m \u001b[0mIMGSIZE\u001b[0m\u001b[0;34m,\u001b[0m \u001b[0mIMGSIZE\u001b[0m\u001b[0;34m,\u001b[0m \u001b[0;36m1\u001b[0m\u001b[0;34m)\u001b[0m\u001b[0;34m\u001b[0m\u001b[0;34m\u001b[0m\u001b[0m\n\u001b[0;32m---> 14\u001b[0;31m \u001b[0my\u001b[0m \u001b[0;34m=\u001b[0m \u001b[0mmodel\u001b[0m\u001b[0;34m.\u001b[0m\u001b[0mpredict\u001b[0m\u001b[0;34m(\u001b[0m\u001b[0mim_test\u001b[0m\u001b[0;34m)\u001b[0m\u001b[0;34m\u001b[0m\u001b[0;34m\u001b[0m\u001b[0m\n\u001b[0m",
            "\u001b[0;32m/usr/local/lib/python3.8/dist-packages/keras/utils/traceback_utils.py\u001b[0m in \u001b[0;36merror_handler\u001b[0;34m(*args, **kwargs)\u001b[0m\n\u001b[1;32m     65\u001b[0m     \u001b[0;32mexcept\u001b[0m \u001b[0mException\u001b[0m \u001b[0;32mas\u001b[0m \u001b[0me\u001b[0m\u001b[0;34m:\u001b[0m  \u001b[0;31m# pylint: disable=broad-except\u001b[0m\u001b[0;34m\u001b[0m\u001b[0;34m\u001b[0m\u001b[0m\n\u001b[1;32m     66\u001b[0m       \u001b[0mfiltered_tb\u001b[0m \u001b[0;34m=\u001b[0m \u001b[0m_process_traceback_frames\u001b[0m\u001b[0;34m(\u001b[0m\u001b[0me\u001b[0m\u001b[0;34m.\u001b[0m\u001b[0m__traceback__\u001b[0m\u001b[0;34m)\u001b[0m\u001b[0;34m\u001b[0m\u001b[0;34m\u001b[0m\u001b[0m\n\u001b[0;32m---> 67\u001b[0;31m       \u001b[0;32mraise\u001b[0m \u001b[0me\u001b[0m\u001b[0;34m.\u001b[0m\u001b[0mwith_traceback\u001b[0m\u001b[0;34m(\u001b[0m\u001b[0mfiltered_tb\u001b[0m\u001b[0;34m)\u001b[0m \u001b[0;32mfrom\u001b[0m \u001b[0;32mNone\u001b[0m\u001b[0;34m\u001b[0m\u001b[0;34m\u001b[0m\u001b[0m\n\u001b[0m\u001b[1;32m     68\u001b[0m     \u001b[0;32mfinally\u001b[0m\u001b[0;34m:\u001b[0m\u001b[0;34m\u001b[0m\u001b[0;34m\u001b[0m\u001b[0m\n\u001b[1;32m     69\u001b[0m       \u001b[0;32mdel\u001b[0m \u001b[0mfiltered_tb\u001b[0m\u001b[0;34m\u001b[0m\u001b[0;34m\u001b[0m\u001b[0m\n",
            "\u001b[0;32m/usr/local/lib/python3.8/dist-packages/keras/engine/training.py\u001b[0m in \u001b[0;36mtf__predict_function\u001b[0;34m(iterator)\u001b[0m\n\u001b[1;32m     13\u001b[0m                 \u001b[0;32mtry\u001b[0m\u001b[0;34m:\u001b[0m\u001b[0;34m\u001b[0m\u001b[0;34m\u001b[0m\u001b[0m\n\u001b[1;32m     14\u001b[0m                     \u001b[0mdo_return\u001b[0m \u001b[0;34m=\u001b[0m \u001b[0;32mTrue\u001b[0m\u001b[0;34m\u001b[0m\u001b[0;34m\u001b[0m\u001b[0m\n\u001b[0;32m---> 15\u001b[0;31m                     \u001b[0mretval_\u001b[0m \u001b[0;34m=\u001b[0m \u001b[0mag__\u001b[0m\u001b[0;34m.\u001b[0m\u001b[0mconverted_call\u001b[0m\u001b[0;34m(\u001b[0m\u001b[0mag__\u001b[0m\u001b[0;34m.\u001b[0m\u001b[0mld\u001b[0m\u001b[0;34m(\u001b[0m\u001b[0mstep_function\u001b[0m\u001b[0;34m)\u001b[0m\u001b[0;34m,\u001b[0m \u001b[0;34m(\u001b[0m\u001b[0mag__\u001b[0m\u001b[0;34m.\u001b[0m\u001b[0mld\u001b[0m\u001b[0;34m(\u001b[0m\u001b[0mself\u001b[0m\u001b[0;34m)\u001b[0m\u001b[0;34m,\u001b[0m \u001b[0mag__\u001b[0m\u001b[0;34m.\u001b[0m\u001b[0mld\u001b[0m\u001b[0;34m(\u001b[0m\u001b[0miterator\u001b[0m\u001b[0;34m)\u001b[0m\u001b[0;34m)\u001b[0m\u001b[0;34m,\u001b[0m \u001b[0;32mNone\u001b[0m\u001b[0;34m,\u001b[0m \u001b[0mfscope\u001b[0m\u001b[0;34m)\u001b[0m\u001b[0;34m\u001b[0m\u001b[0;34m\u001b[0m\u001b[0m\n\u001b[0m\u001b[1;32m     16\u001b[0m                 \u001b[0;32mexcept\u001b[0m\u001b[0;34m:\u001b[0m\u001b[0;34m\u001b[0m\u001b[0;34m\u001b[0m\u001b[0m\n\u001b[1;32m     17\u001b[0m                     \u001b[0mdo_return\u001b[0m \u001b[0;34m=\u001b[0m \u001b[0;32mFalse\u001b[0m\u001b[0;34m\u001b[0m\u001b[0;34m\u001b[0m\u001b[0m\n",
            "\u001b[0;31mValueError\u001b[0m: in user code:\n\n    File \"/usr/local/lib/python3.8/dist-packages/keras/engine/training.py\", line 1845, in predict_function  *\n        return step_function(self, iterator)\n    File \"/usr/local/lib/python3.8/dist-packages/keras/engine/training.py\", line 1834, in step_function  **\n        outputs = model.distribute_strategy.run(run_step, args=(data,))\n    File \"/usr/local/lib/python3.8/dist-packages/keras/engine/training.py\", line 1823, in run_step  **\n        outputs = model.predict_step(data)\n    File \"/usr/local/lib/python3.8/dist-packages/keras/engine/training.py\", line 1791, in predict_step\n        return self(x, training=False)\n    File \"/usr/local/lib/python3.8/dist-packages/keras/utils/traceback_utils.py\", line 67, in error_handler\n        raise e.with_traceback(filtered_tb) from None\n    File \"/usr/local/lib/python3.8/dist-packages/keras/engine/input_spec.py\", line 228, in assert_input_compatibility\n        raise ValueError(f'Input {input_index} of layer \"{layer_name}\" '\n\n    ValueError: Exception encountered when calling layer \"sequential_1\" (type Sequential).\n    \n    Input 0 of layer \"conv2d_4\" is incompatible with the layer: expected min_ndim=4, found ndim=2. Full shape received: (None, 100)\n    \n    Call arguments received by layer \"sequential_1\" (type Sequential):\n      • inputs=('tf.Tensor(shape=(None, 100), dtype=float32)',)\n      • training=False\n      • mask=None\n"
          ]
        }
      ],
      "source": [
        "# for testing\n",
        "im_test = []\n",
        "corrupted_imgs = 0\n",
        "for img in os.listdir(TEST_DIR):\n",
        "    img_path = os.path.join(TEST_DIR, img)\n",
        "    img_arr = cv2.imread(img_path) \n",
        "    img_arr = cv2.cvtColor(img_arr, cv2.COLOR_BGR2GRAY) #change the image in gray-scale\n",
        "    img_arr_resize = cv2.resize(img_arr, (IMGSIZE, IMGSIZE)) #resize the image in 100 x 100 \n",
        " \n",
        "    img_arr = img_arr_resize / 255.0\n",
        "\n",
        "im_test.append(img_arr)\n",
        "x = np.array(im_test).reshape(-1, IMGSIZE, IMGSIZE, 1)\n",
        "y = model.predict(im_test)"
      ]
    },
    {
      "cell_type": "code",
      "execution_count": 71,
      "id": "babf5cd6",
      "metadata": {
        "id": "babf5cd6",
        "colab": {
          "base_uri": "https://localhost:8080/"
        },
        "outputId": "ddf52680-086d-4677-db11-bbf5cea16bcb"
      },
      "outputs": [
        {
          "output_type": "stream",
          "name": "stdout",
          "text": [
            "0.6791282\n",
            "glass\n",
            "0.7728281\n",
            "glass\n",
            "0.8509697\n",
            "glass\n",
            "0.5891695\n",
            "glass\n",
            "0.7515679\n",
            "glass\n",
            "0.73973113\n",
            "glass\n",
            "0.823025\n",
            "glass\n",
            "0.8521764\n",
            "glass\n",
            "0.85549027\n",
            "glass\n",
            "0.81527454\n",
            "glass\n",
            "0.8521764\n",
            "glass\n",
            "0.749636\n",
            "glass\n",
            "0.8494536\n",
            "glass\n",
            "0.85549027\n",
            "glass\n",
            "0.8591024\n",
            "glass\n",
            "0.7672087\n",
            "glass\n",
            "0.59093106\n",
            "glass\n",
            "0.8601711\n",
            "glass\n",
            "0.85188395\n",
            "glass\n",
            "0.8250623\n",
            "glass\n",
            "0.8581056\n",
            "glass\n",
            "0.8499658\n",
            "glass\n",
            "0.85865724\n",
            "glass\n",
            "0.85320365\n",
            "glass\n",
            "0.8563166\n",
            "glass\n",
            "0.85964453\n",
            "glass\n",
            "0.85843325\n",
            "glass\n",
            "0.8538892\n",
            "glass\n",
            "0.85685307\n",
            "glass\n",
            "0.85627836\n",
            "glass\n",
            "0.8456751\n",
            "glass\n",
            "0.859494\n",
            "glass\n",
            "0.8518676\n",
            "glass\n",
            "0.8457759\n",
            "glass\n",
            "0.8585788\n",
            "glass\n",
            "0.7498711\n",
            "glass\n",
            "0.6962618\n",
            "glass\n",
            "0.82665455\n",
            "glass\n",
            "0.8486334\n",
            "glass\n",
            "0.7979174\n",
            "glass\n",
            "0.6562251\n",
            "glass\n",
            "0.8104699\n",
            "glass\n",
            "0.75004596\n",
            "glass\n",
            "0.85672987\n",
            "glass\n",
            "0.66020435\n",
            "glass\n",
            "0.8575239\n",
            "glass\n",
            "0.68836826\n",
            "glass\n",
            "0.8106857\n",
            "glass\n",
            "0.85734326\n",
            "glass\n",
            "0.85058993\n",
            "glass\n",
            "0.71766174\n",
            "glass\n"
          ]
        }
      ],
      "source": [
        "for i in range(len(im_pred)):\n",
        "    print(im_pred[i].max())\n",
        "    print(category[im_pred[i].argmax()])"
      ]
    }
  ],
  "metadata": {
    "kernelspec": {
      "display_name": "deeplearning",
      "language": "python",
      "name": "deeplearning"
    },
    "language_info": {
      "codemirror_mode": {
        "name": "ipython",
        "version": 3
      },
      "file_extension": ".py",
      "mimetype": "text/x-python",
      "name": "python",
      "nbconvert_exporter": "python",
      "pygments_lexer": "ipython3",
      "version": "3.9.15"
    },
    "colab": {
      "provenance": [],
      "include_colab_link": true
    }
  },
  "nbformat": 4,
  "nbformat_minor": 5
}