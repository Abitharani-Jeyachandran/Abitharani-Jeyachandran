{
  "cells": [
    {
      "cell_type": "markdown",
      "metadata": {
        "id": "view-in-github",
        "colab_type": "text"
      },
      "source": [
        "<a href=\"https://colab.research.google.com/github/Abitharani-Jeyachandran/Abitharani-Jeyachandran/blob/main/program.ipynb\" target=\"_parent\"><img src=\"https://colab.research.google.com/assets/colab-badge.svg\" alt=\"Open In Colab\"/></a>"
      ]
    },
    {
      "cell_type": "code",
      "execution_count": 1,
      "id": "70a99ce3",
      "metadata": {
        "id": "70a99ce3"
      },
      "outputs": [],
      "source": [
        "import tensorflow as tf\n",
        "import matplotlib.pyplot as plt\n",
        "import os\n",
        "import numpy as np\n",
        "from tensorflow import keras\n",
        "from tensorflow.keras import layers\n",
        "from tensorflow.keras import losses\n",
        "import cv2\n",
        "import imghdr"
      ]
    },
    {
      "cell_type": "code",
      "execution_count": 8,
      "id": "8773cf4c",
      "metadata": {
        "id": "8773cf4c"
      },
      "outputs": [],
      "source": [
        "data_dir = '/content/drive/MyDrive/Colab Notebooks/train'"
      ]
    },
    {
      "cell_type": "code",
      "execution_count": 9,
      "id": "565eac47",
      "metadata": {
        "colab": {
          "base_uri": "https://localhost:8080/"
        },
        "id": "565eac47",
        "outputId": "5a164df6-1126-4734-ac25-403490574491"
      },
      "outputs": [
        {
          "output_type": "execute_result",
          "data": {
            "text/plain": [
              "['glass', 'metal']"
            ]
          },
          "metadata": {},
          "execution_count": 9
        }
      ],
      "source": [
        "os.listdir(data_dir)"
      ]
    },
    {
      "cell_type": "code",
      "execution_count": 10,
      "id": "56384eaa",
      "metadata": {
        "id": "56384eaa"
      },
      "outputs": [],
      "source": [
        "image_exts = ['jpeg', 'jpg', 'bmp', 'png']"
      ]
    },
    {
      "cell_type": "code",
      "execution_count": 11,
      "id": "fe6043f2",
      "metadata": {
        "id": "fe6043f2",
        "outputId": "00648ea5-935d-4c94-c053-2b1fe1805dcc",
        "colab": {
          "base_uri": "https://localhost:8080/"
        }
      },
      "outputs": [
        {
          "output_type": "execute_result",
          "data": {
            "text/plain": [
              "['jpeg', 'jpg', 'bmp', 'png']"
            ]
          },
          "metadata": {},
          "execution_count": 11
        }
      ],
      "source": [
        "image_exts"
      ]
    },
    {
      "cell_type": "code",
      "execution_count": 12,
      "id": "5c045ab8",
      "metadata": {
        "id": "5c045ab8",
        "outputId": "045aca63-d4b9-477a-9427-4a835f5e7b42",
        "colab": {
          "base_uri": "https://localhost:8080/"
        }
      },
      "outputs": [
        {
          "output_type": "stream",
          "name": "stdout",
          "text": [
            "glass\n",
            "metal\n"
          ]
        }
      ],
      "source": [
        "for image_class in os.listdir(data_dir):\n",
        "    print(image_class)"
      ]
    },
    {
      "cell_type": "markdown",
      "id": "d5d735d0",
      "metadata": {
        "id": "d5d735d0"
      },
      "source": [
        "<font size=\"12\">Clean Data</font>"
      ]
    },
    {
      "cell_type": "code",
      "execution_count": 13,
      "id": "289b74e8",
      "metadata": {
        "id": "289b74e8"
      },
      "outputs": [],
      "source": [
        "for image_class in os.listdir(data_dir):  #loop folder\n",
        "    for image in os.listdir(os.path.join(data_dir, image_class)): #loop image\n",
        "        image_path = os.path.join(data_dir, image_class, image)\n",
        "        try:\n",
        "            img = cv2.imread(image_path)\n",
        "            tip = imghdr.what(image_path)\n",
        "            if tip not in image_exts:\n",
        "                print('Image not in ext list {}'.format(image_path))\n",
        "                os.remove(image_path)\n",
        "        except Exception as e:\n",
        "            print('Issue with image {}'.format(image_path))"
      ]
    },
    {
      "cell_type": "markdown",
      "id": "991c0cca",
      "metadata": {
        "id": "991c0cca"
      },
      "source": [
        "<font size=\"12\">Load Data</font>"
      ]
    },
    {
      "cell_type": "code",
      "execution_count": 14,
      "id": "c8c4651e",
      "metadata": {
        "id": "c8c4651e",
        "outputId": "1da7807d-f0e3-41b2-b9b8-5f9af0e3d41a",
        "colab": {
          "base_uri": "https://localhost:8080/"
        }
      },
      "outputs": [
        {
          "output_type": "stream",
          "name": "stdout",
          "text": [
            "Found 3332 files belonging to 2 classes.\n"
          ]
        }
      ],
      "source": [
        "data = tf.keras.utils.image_dataset_from_directory(data_dir)"
      ]
    },
    {
      "cell_type": "code",
      "execution_count": 15,
      "id": "75dee5ad",
      "metadata": {
        "id": "75dee5ad",
        "outputId": "e8b534f5-844e-4707-f97a-f2bd5eef3ba9",
        "colab": {
          "base_uri": "https://localhost:8080/"
        }
      },
      "outputs": [
        {
          "output_type": "execute_result",
          "data": {
            "text/plain": [
              "<BatchDataset element_spec=(TensorSpec(shape=(None, 256, 256, 3), dtype=tf.float32, name=None), TensorSpec(shape=(None,), dtype=tf.int32, name=None))>"
            ]
          },
          "metadata": {},
          "execution_count": 15
        }
      ],
      "source": [
        "data"
      ]
    },
    {
      "cell_type": "code",
      "execution_count": 16,
      "id": "7a0260a1",
      "metadata": {
        "id": "7a0260a1"
      },
      "outputs": [],
      "source": [
        "data_iterator = data.as_numpy_iterator()"
      ]
    },
    {
      "cell_type": "code",
      "execution_count": 17,
      "id": "ee8db898",
      "metadata": {
        "id": "ee8db898",
        "outputId": "e2b4d139-63da-4b49-ed27-1111abef3ee2",
        "colab": {
          "base_uri": "https://localhost:8080/"
        }
      },
      "outputs": [
        {
          "output_type": "execute_result",
          "data": {
            "text/plain": [
              "<tensorflow.python.data.ops.dataset_ops._NumpyIterator at 0x7f42c8e25e20>"
            ]
          },
          "metadata": {},
          "execution_count": 17
        }
      ],
      "source": [
        "data_iterator"
      ]
    },
    {
      "cell_type": "code",
      "execution_count": 18,
      "id": "8254cbf8",
      "metadata": {
        "id": "8254cbf8"
      },
      "outputs": [],
      "source": [
        "batch = data_iterator.next()"
      ]
    },
    {
      "cell_type": "code",
      "execution_count": 19,
      "id": "66ce23c8",
      "metadata": {
        "id": "66ce23c8",
        "outputId": "e1b00d82-8ba3-4c6c-88f8-02597d921957",
        "colab": {
          "base_uri": "https://localhost:8080/"
        }
      },
      "outputs": [
        {
          "output_type": "execute_result",
          "data": {
            "text/plain": [
              "2"
            ]
          },
          "metadata": {},
          "execution_count": 19
        }
      ],
      "source": [
        "len(batch) #2-images&labels"
      ]
    },
    {
      "cell_type": "code",
      "execution_count": 20,
      "id": "6c81c2e3",
      "metadata": {
        "id": "6c81c2e3",
        "outputId": "2678d59a-1eed-41dc-dece-5eae780690bd",
        "colab": {
          "base_uri": "https://localhost:8080/"
        }
      },
      "outputs": [
        {
          "output_type": "execute_result",
          "data": {
            "text/plain": [
              "array([0, 1, 1, 0, 1, 0, 0, 0, 1, 1, 0, 1, 1, 0, 1, 1, 0, 0, 0, 0, 0, 1,\n",
              "       1, 0, 0, 0, 1, 1, 1, 1, 0, 0], dtype=int32)"
            ]
          },
          "metadata": {},
          "execution_count": 20
        }
      ],
      "source": [
        "batch[1]"
      ]
    },
    {
      "cell_type": "code",
      "execution_count": 21,
      "id": "0ed2d6ea",
      "metadata": {
        "scrolled": true,
        "id": "0ed2d6ea",
        "outputId": "bf42cb26-c140-4929-e063-84a7fb61c94e",
        "colab": {
          "base_uri": "https://localhost:8080/",
          "height": 123
        }
      },
      "outputs": [
        {
          "output_type": "display_data",
          "data": {
            "text/plain": [
              "<Figure size 720x720 with 8 Axes>"
            ],
            "image/png": "[encoded data removed]"
          },
          "metadata": {
            "needs_background": "light"
          }
        }
      ],
      "source": [
        "fix, ax = plt.subplots(ncols=8, figsize=(10,10))\n",
        "for idx, img in enumerate(batch[0][:8]):\n",
        "    ax[idx].imshow(img.astype(int))\n",
        "    ax[idx].title.set_text(batch[1][idx])\n",
        "    \n",
        "#0-glass\n",
        "#1-metal\n",
        "#2-plastic"
      ]
    },
    {
      "cell_type": "code",
      "execution_count": 22,
      "id": "4de5370d",
      "metadata": {
        "id": "4de5370d"
      },
      "outputs": [],
      "source": [
        "scaled = batch[0]/255"
      ]
    },
    {
      "cell_type": "code",
      "execution_count": 23,
      "id": "ea2ab964",
      "metadata": {
        "id": "ea2ab964",
        "outputId": "b88d80ff-a92c-48a0-b4e9-16186fdd2584",
        "colab": {
          "base_uri": "https://localhost:8080/"
        }
      },
      "outputs": [
        {
          "output_type": "execute_result",
          "data": {
            "text/plain": [
              "1.0"
            ]
          },
          "metadata": {},
          "execution_count": 23
        }
      ],
      "source": [
        "scaled.max()"
      ]
    },
    {
      "cell_type": "markdown",
      "id": "e35d109f",
      "metadata": {
        "id": "e35d109f"
      },
      "source": [
        "<font size=\"12\">Preprocess Data</font>"
      ]
    },
    {
      "cell_type": "markdown",
      "id": "e2a89917",
      "metadata": {
        "id": "e2a89917"
      },
      "source": [
        "<font size=\"4\">Scale Data</font>"
      ]
    },
    {
      "cell_type": "code",
      "execution_count": 24,
      "id": "afcf4410",
      "metadata": {
        "id": "afcf4410"
      },
      "outputs": [],
      "source": [
        "data = data.map(lambda x,y:(x/255,y)) #quick the process #x-images #y-target variables"
      ]
    },
    {
      "cell_type": "code",
      "execution_count": 25,
      "id": "fd5c1955",
      "metadata": {
        "id": "fd5c1955",
        "outputId": "ce2c700b-049f-4dfe-f765-1d04325a69f5",
        "colab": {
          "base_uri": "https://localhost:8080/"
        }
      },
      "outputs": [
        {
          "output_type": "execute_result",
          "data": {
            "text/plain": [
              "1.0"
            ]
          },
          "metadata": {},
          "execution_count": 25
        }
      ],
      "source": [
        "data.as_numpy_iterator().next()[0].max()"
      ]
    },
    {
      "cell_type": "markdown",
      "id": "b09cd04e",
      "metadata": {
        "id": "b09cd04e"
      },
      "source": [
        "<font size=\"4\">Split Data</font>"
      ]
    },
    {
      "cell_type": "code",
      "execution_count": 26,
      "id": "b92ba799",
      "metadata": {
        "id": "b92ba799",
        "outputId": "fd2d01c9-6544-4474-a0c4-19a7b959d939",
        "colab": {
          "base_uri": "https://localhost:8080/"
        }
      },
      "outputs": [
        {
          "output_type": "execute_result",
          "data": {
            "text/plain": [
              "105"
            ]
          },
          "metadata": {},
          "execution_count": 26
        }
      ],
      "source": [
        "len(data)"
      ]
    },
    {
      "cell_type": "code",
      "execution_count": 27,
      "id": "9d458a76",
      "metadata": {
        "id": "9d458a76"
      },
      "outputs": [],
      "source": [
        "train_size = int(len(data)*.7)\n",
        "val_size = int(len(data)*.2)\n",
        "test_size = int(len(data)*.1)"
      ]
    },
    {
      "cell_type": "code",
      "execution_count": 28,
      "id": "9a5bd26f",
      "metadata": {
        "id": "9a5bd26f",
        "outputId": "82e02f65-fb2b-4f15-a558-e0c9d9333eee",
        "colab": {
          "base_uri": "https://localhost:8080/"
        }
      },
      "outputs": [
        {
          "output_type": "execute_result",
          "data": {
            "text/plain": [
              "73"
            ]
          },
          "metadata": {},
          "execution_count": 28
        }
      ],
      "source": [
        "train_size"
      ]
    },
    {
      "cell_type": "code",
      "execution_count": 29,
      "id": "5eb2a012",
      "metadata": {
        "id": "5eb2a012"
      },
      "outputs": [],
      "source": [
        "train = data.take(train_size)\n",
        "val = data.skip(train_size).take(val_size)\n",
        "test = data.skip(train_size+val_size).take(test_size)"
      ]
    },
    {
      "cell_type": "code",
      "execution_count": 30,
      "id": "acff38af",
      "metadata": {
        "id": "acff38af"
      },
      "outputs": [],
      "source": [
        "validation_inputs, validation_targets = next(iter(val))"
      ]
    },
    {
      "cell_type": "markdown",
      "id": "87ebd7d9",
      "metadata": {
        "id": "87ebd7d9"
      },
      "source": [
        "<font size=\"4\">Build Deep Learning Model</font>"
      ]
    },
    {
      "cell_type": "code",
      "execution_count": 31,
      "id": "5603d5c9",
      "metadata": {
        "id": "5603d5c9",
        "outputId": "c854423c-59ed-4bad-b469-e20d2d63a273",
        "colab": {
          "base_uri": "https://localhost:8080/"
        }
      },
      "outputs": [
        {
          "output_type": "execute_result",
          "data": {
            "text/plain": [
              "<TakeDataset element_spec=(TensorSpec(shape=(None, 256, 256, 3), dtype=tf.float32, name=None), TensorSpec(shape=(None,), dtype=tf.int32, name=None))>"
            ]
          },
          "metadata": {},
          "execution_count": 31
        }
      ],
      "source": [
        "train"
      ]
    },
    {
      "cell_type": "code",
      "execution_count": 32,
      "id": "18f35a85",
      "metadata": {
        "id": "18f35a85"
      },
      "outputs": [],
      "source": [
        "from tensorflow.keras.models import Sequential\n",
        "from tensorflow.keras.layers import Conv2D, MaxPooling2D, Dense, Flatten, Dropout"
      ]
    },
    {
      "cell_type": "code",
      "execution_count": 33,
      "id": "72ca4a5e",
      "metadata": {
        "id": "72ca4a5e"
      },
      "outputs": [],
      "source": [
        "model = Sequential()"
      ]
    },
    {
      "cell_type": "code",
      "execution_count": 34,
      "id": "213260fe",
      "metadata": {
        "id": "213260fe"
      },
      "outputs": [],
      "source": [
        "model.add(Conv2D(16, (3,3), 1, activation='relu', input_shape=(256,256,3)))\n",
        "model.add(MaxPooling2D())\n",
        "model.add(Conv2D(32, (3,3), 1, activation='relu'))\n",
        "model.add(MaxPooling2D())\n",
        "model.add(Conv2D(16, (3,3), 1, activation='relu'))\n",
        "model.add(MaxPooling2D())\n",
        "model.add(Flatten())\n",
        "model.add(Dense(256, activation='relu'))\n",
        "model.add(Dense(1, activation='sigmoid'))"
      ]
    },
    {
      "cell_type": "code",
      "execution_count": 35,
      "id": "93aa6d83",
      "metadata": {
        "id": "93aa6d83"
      },
      "outputs": [],
      "source": [
        "model.add(layers.Dense(1, activation='sigmoid'))"
      ]
    },
    {
      "cell_type": "code",
      "execution_count": 36,
      "id": "fee1ccde",
      "metadata": {
        "id": "fee1ccde"
      },
      "outputs": [],
      "source": [
        "model.compile('adam', loss=tf.losses.BinaryCrossentropy(), metrics=['accuracy'])"
      ]
    },
    {
      "cell_type": "code",
      "execution_count": 37,
      "id": "0f6e8fec",
      "metadata": {
        "id": "0f6e8fec",
        "outputId": "74b42380-f2a2-4a6a-c1c5-59b347019f82",
        "colab": {
          "base_uri": "https://localhost:8080/"
        }
      },
      "outputs": [
        {
          "output_type": "stream",
          "name": "stdout",
          "text": [
            "Model: \"sequential\"\n",
            "_________________________________________________________________\n",
            " Layer (type)                Output Shape              Param #   \n",
            "=================================================================\n",
            " conv2d (Conv2D)             (None, 254, 254, 16)      448       \n",
            "                                                                 \n",
            " max_pooling2d (MaxPooling2D  (None, 127, 127, 16)     0         \n",
            " )                                                               \n",
            "                                                                 \n",
            " conv2d_1 (Conv2D)           (None, 125, 125, 32)      4640      \n",
            "                                                                 \n",
            " max_pooling2d_1 (MaxPooling  (None, 62, 62, 32)       0         \n",
            " 2D)                                                             \n",
            "                                                                 \n",
            " conv2d_2 (Conv2D)           (None, 60, 60, 16)        4624      \n",
            "                                                                 \n",
            " max_pooling2d_2 (MaxPooling  (None, 30, 30, 16)       0         \n",
            " 2D)                                                             \n",
            "                                                                 \n",
            " flatten (Flatten)           (None, 14400)             0         \n",
            "                                                                 \n",
            " dense (Dense)               (None, 256)               3686656   \n",
            "                                                                 \n",
            " dense_1 (Dense)             (None, 1)                 257       \n",
            "                                                                 \n",
            " dense_2 (Dense)             (None, 1)                 2         \n",
            "                                                                 \n",
            "=================================================================\n",
            "Total params: 3,696,627\n",
            "Trainable params: 3,696,627\n",
            "Non-trainable params: 0\n",
            "_________________________________________________________________\n"
          ]
        }
      ],
      "source": [
        "model.summary()"
      ]
    },
    {
      "cell_type": "code",
      "execution_count": 38,
      "id": "a7fead5a",
      "metadata": {
        "id": "a7fead5a",
        "outputId": "e29c2b76-7caf-4cea-9bd8-655c97f16ce0",
        "colab": {
          "base_uri": "https://localhost:8080/"
        }
      },
      "outputs": [
        {
          "output_type": "stream",
          "name": "stdout",
          "text": [
            "73/73 [==============================] - 59s 758ms/step - loss: 0.7296 - accuracy: 0.4598\n"
          ]
        },
        {
          "output_type": "execute_result",
          "data": {
            "text/plain": [
              "[0.729630172252655, 0.45976027846336365]"
            ]
          },
          "metadata": {},
          "execution_count": 38
        }
      ],
      "source": [
        "model.evaluate(train, batch_size=10)"
      ]
    },
    {
      "cell_type": "markdown",
      "id": "576671bb",
      "metadata": {
        "id": "576671bb"
      },
      "source": [
        "<font size=\"12\">Train Data</font>"
      ]
    },
    {
      "cell_type": "code",
      "execution_count": 39,
      "id": "35b130c5",
      "metadata": {
        "id": "35b130c5"
      },
      "outputs": [],
      "source": [
        "logdir='logs'"
      ]
    },
    {
      "cell_type": "code",
      "execution_count": 40,
      "id": "cded9f89",
      "metadata": {
        "id": "cded9f89"
      },
      "outputs": [],
      "source": [
        "tensorboard_callback = tf.keras.callbacks.TensorBoard(log_dir=logdir)"
      ]
    },
    {
      "cell_type": "code",
      "execution_count": 41,
      "id": "e8cea535",
      "metadata": {
        "id": "e8cea535",
        "outputId": "ed2da478-950e-4e40-aa9c-3e91a8ccb3db",
        "colab": {
          "base_uri": "https://localhost:8080/"
        }
      },
      "outputs": [
        {
          "output_type": "stream",
          "name": "stdout",
          "text": [
            "Epoch 1/5\n",
            "73/73 [==============================] - 194s 3s/step - loss: 0.6939 - accuracy: 0.5334 - val_loss: 0.6913 - val_accuracy: 0.5640\n",
            "Epoch 2/5\n",
            "73/73 [==============================] - 191s 3s/step - loss: 0.6916 - accuracy: 0.5428 - val_loss: 0.6893 - val_accuracy: 0.5774\n",
            "Epoch 3/5\n",
            "73/73 [==============================] - 189s 3s/step - loss: 0.6908 - accuracy: 0.5445 - val_loss: 0.6899 - val_accuracy: 0.5536\n",
            "Epoch 4/5\n",
            "73/73 [==============================] - 235s 3s/step - loss: 0.6905 - accuracy: 0.5424 - val_loss: 0.6897 - val_accuracy: 0.5491\n",
            "Epoch 5/5\n",
            "73/73 [==============================] - 233s 3s/step - loss: 0.6903 - accuracy: 0.5415 - val_loss: 0.6864 - val_accuracy: 0.5774\n"
          ]
        }
      ],
      "source": [
        "hist = model.fit(train, epochs=5, verbose=1, validation_data=val, callbacks=[tensorboard_callback])"
      ]
    },
    {
      "cell_type": "code",
      "execution_count": 42,
      "id": "97932cbe",
      "metadata": {
        "id": "97932cbe",
        "colab": {
          "base_uri": "https://localhost:8080/"
        },
        "outputId": "f0412f97-3760-482b-de63-541dab6555ce"
      },
      "outputs": [
        {
          "output_type": "execute_result",
          "data": {
            "text/plain": [
              "{'loss': [0.6938889026641846,\n",
              "  0.6916118264198303,\n",
              "  0.6908149123191833,\n",
              "  0.6904951930046082,\n",
              "  0.6902828812599182],\n",
              " 'accuracy': [0.5333904027938843,\n",
              "  0.5428082346916199,\n",
              "  0.5445205569267273,\n",
              "  0.542380154132843,\n",
              "  0.5415239930152893],\n",
              " 'val_loss': [0.6913464665412903,\n",
              "  0.6893460154533386,\n",
              "  0.6898776888847351,\n",
              "  0.6897270083427429,\n",
              "  0.6863878965377808],\n",
              " 'val_accuracy': [0.5639880895614624,\n",
              "  0.5773809552192688,\n",
              "  0.5535714030265808,\n",
              "  0.5491071343421936,\n",
              "  0.5773809552192688]}"
            ]
          },
          "metadata": {},
          "execution_count": 42
        }
      ],
      "source": [
        "hist.history"
      ]
    },
    {
      "cell_type": "code",
      "execution_count": 43,
      "id": "f413bdd3",
      "metadata": {
        "id": "f413bdd3"
      },
      "outputs": [],
      "source": [
        "model.save('garbage.h5')"
      ]
    },
    {
      "cell_type": "code",
      "execution_count": 44,
      "id": "3cd350b1",
      "metadata": {
        "id": "3cd350b1",
        "colab": {
          "base_uri": "https://localhost:8080/",
          "height": 294
        },
        "outputId": "45dddb3a-8847-4aae-f5e3-88891878eb6c"
      },
      "outputs": [
        {
          "output_type": "display_data",
          "data": {
            "text/plain": [
              "<Figure size 432x288 with 1 Axes>"
            ],
            "image/png": "[encoded data removed]"
          },
          "metadata": {
            "needs_background": "light"
          }
        }
      ],
      "source": [
        "fig = plt.figure()\n",
        "plt.plot(hist.history['loss'], color='teal', label='loss')\n",
        "plt.plot(hist.history['val_loss'], color='orange', label='val_loss')\n",
        "fig.suptitle('Loss', fontsize=20)\n",
        "plt.legend(loc=\"upper left\")\n",
        "plt.show()"
      ]
    },
    {
      "cell_type": "code",
      "execution_count": 45,
      "id": "10f6ae3b",
      "metadata": {
        "id": "10f6ae3b",
        "colab": {
          "base_uri": "https://localhost:8080/",
          "height": 294
        },
        "outputId": "6dd93526-9f59-4c9a-9313-9f27f8804c07"
      },
      "outputs": [
        {
          "output_type": "display_data",
          "data": {
            "text/plain": [
              "<Figure size 432x288 with 1 Axes>"
            ],
            "image/png": "[encoded data removed]"
          },
          "metadata": {
            "needs_background": "light"
          }
        }
      ],
      "source": [
        "fig = plt.figure()\n",
        "plt.plot(hist.history['accuracy'], color='teal', label='accuracy')\n",
        "plt.plot(hist.history['val_accuracy'], color='orange', label='val_accuracy')\n",
        "fig.suptitle('Accuracy', fontsize=20)\n",
        "plt.legend(loc=\"upper left\")\n",
        "plt.show()"
      ]
    },
    {
      "cell_type": "markdown",
      "id": "028f3bd5",
      "metadata": {
        "id": "028f3bd5"
      },
      "source": [
        "<font size=\"12\">Evaluate Data</font>"
      ]
    },
    {
      "cell_type": "code",
      "execution_count": 46,
      "id": "4f34ed00",
      "metadata": {
        "id": "4f34ed00"
      },
      "outputs": [],
      "source": [
        "from tensorflow.keras.metrics import Precision, Recall, BinaryAccuracy"
      ]
    },
    {
      "cell_type": "code",
      "execution_count": 47,
      "id": "92cd0efe",
      "metadata": {
        "id": "92cd0efe"
      },
      "outputs": [],
      "source": [
        "pre = Precision()\n",
        "re = Recall()\n",
        "acc = BinaryAccuracy()"
      ]
    },
    {
      "cell_type": "code",
      "execution_count": 48,
      "id": "e731469d",
      "metadata": {
        "id": "e731469d",
        "colab": {
          "base_uri": "https://localhost:8080/"
        },
        "outputId": "adedb44d-f10a-4769-af6e-5619f81bd8d6"
      },
      "outputs": [
        {
          "output_type": "stream",
          "name": "stdout",
          "text": [
            "1/1 [==============================] - 1s 856ms/step\n",
            "1/1 [==============================] - 1s 521ms/step\n",
            "1/1 [==============================] - 1s 534ms/step\n",
            "1/1 [==============================] - 1s 529ms/step\n",
            "1/1 [==============================] - 1s 516ms/step\n",
            "1/1 [==============================] - 0s 496ms/step\n",
            "1/1 [==============================] - 1s 530ms/step\n",
            "1/1 [==============================] - 1s 511ms/step\n",
            "1/1 [==============================] - 1s 518ms/step\n",
            "1/1 [==============================] - 1s 501ms/step\n"
          ]
        }
      ],
      "source": [
        "for batch in test.as_numpy_iterator(): \n",
        "    X, y = batch\n",
        "    yhat = model.predict(X)\n",
        "    pre.update_state(y, yhat)\n",
        "    re.update_state(y, yhat)\n",
        "    acc.update_state(y, yhat)"
      ]
    },
    {
      "cell_type": "code",
      "execution_count": 49,
      "id": "5ac76511",
      "metadata": {
        "id": "5ac76511",
        "colab": {
          "base_uri": "https://localhost:8080/"
        },
        "outputId": "2115e450-cdc2-4e3c-ceb0-4a44d14395bb"
      },
      "outputs": [
        {
          "output_type": "stream",
          "name": "stdout",
          "text": [
            "tf.Tensor(0.0, shape=(), dtype=float32) tf.Tensor(0.0, shape=(), dtype=float32) tf.Tensor(0.565625, shape=(), dtype=float32)\n"
          ]
        }
      ],
      "source": [
        "print(pre.result(), re.result(), acc.result())"
      ]
    },
    {
      "cell_type": "markdown",
      "id": "6bebb65f",
      "metadata": {
        "id": "6bebb65f"
      },
      "source": [
        "<font size=\"12\">Test Data</font>"
      ]
    },
    {
      "cell_type": "code",
      "execution_count": 51,
      "id": "08b1659e",
      "metadata": {
        "id": "08b1659e",
        "colab": {
          "base_uri": "https://localhost:8080/",
          "height": 269
        },
        "outputId": "1c6a9383-16b8-405b-fc89-ffd3ebbada26"
      },
      "outputs": [
        {
          "output_type": "display_data",
          "data": {
            "text/plain": [
              "<Figure size 432x288 with 1 Axes>"
            ],
            "image/png": "[encoded data removed]"
          },
          "metadata": {
            "needs_background": "light"
          }
        }
      ],
      "source": [
        "img = cv2.imread('/content/drive/MyDrive/Colab Notebooks/train/glass/glass-1.jpg')\n",
        "plt.imshow(img)\n",
        "plt.show()"
      ]
    },
    {
      "cell_type": "code",
      "execution_count": 52,
      "id": "30b5c517",
      "metadata": {
        "id": "30b5c517",
        "colab": {
          "base_uri": "https://localhost:8080/",
          "height": 269
        },
        "outputId": "4c3b4412-ebea-43b9-baab-ff36ca622fcd"
      },
      "outputs": [
        {
          "output_type": "display_data",
          "data": {
            "text/plain": [
              "<Figure size 432x288 with 1 Axes>"
            ],
            "image/png": "[encoded data removed]"
          },
          "metadata": {
            "needs_background": "light"
          }
        }
      ],
      "source": [
        "resize = tf.image.resize(img, (256,256))\n",
        "plt.imshow(resize.numpy().astype(int))\n",
        "plt.show()"
      ]
    },
    {
      "cell_type": "code",
      "execution_count": 53,
      "id": "f57719b4",
      "metadata": {
        "id": "f57719b4",
        "colab": {
          "base_uri": "https://localhost:8080/"
        },
        "outputId": "02a43be8-86ac-4edc-ae46-775d9dd06341"
      },
      "outputs": [
        {
          "output_type": "stream",
          "name": "stdout",
          "text": [
            "1/1 [==============================] - 0s 107ms/step\n"
          ]
        }
      ],
      "source": [
        "yhat = model.predict(np.expand_dims(resize/255, 0))"
      ]
    },
    {
      "cell_type": "code",
      "execution_count": 54,
      "id": "be8f205b",
      "metadata": {
        "id": "be8f205b",
        "colab": {
          "base_uri": "https://localhost:8080/"
        },
        "outputId": "027b3a85-0aff-47b3-b5f7-f0ce4249ee6b"
      },
      "outputs": [
        {
          "output_type": "execute_result",
          "data": {
            "text/plain": [
              "array([[0.47371662]], dtype=float32)"
            ]
          },
          "metadata": {},
          "execution_count": 54
        }
      ],
      "source": [
        "yhat"
      ]
    },
    {
      "cell_type": "code",
      "source": [
        "model.save('/content/drive/MyDrive/Colab Notebooks/garbage-segregation-program1.h5')"
      ],
      "metadata": {
        "id": "RwHbZLquzMxI"
      },
      "id": "RwHbZLquzMxI",
      "execution_count": 57,
      "outputs": []
    }
  ],
  "metadata": {
    "kernelspec": {
      "display_name": "Python 3.9 (tensorflow)",
      "language": "python",
      "name": "tensorflow"
    },
    "language_info": {
      "codemirror_mode": {
        "name": "ipython",
        "version": 3
      },
      "file_extension": ".py",
      "mimetype": "text/x-python",
      "name": "python",
      "nbconvert_exporter": "python",
      "pygments_lexer": "ipython3",
      "version": "3.9.15"
    },
    "colab": {
      "provenance": [],
      "include_colab_link": true
    }
  },
  "nbformat": 4,
  "nbformat_minor": 5
}